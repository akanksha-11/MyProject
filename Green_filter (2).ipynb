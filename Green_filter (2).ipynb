{
 "cells": [
  {
   "cell_type": "code",
   "execution_count": 1,
   "metadata": {},
   "outputs": [],
   "source": [
    "import PIL\n",
    "from PIL import Image"
   ]
  },
  {
   "cell_type": "code",
   "execution_count": 2,
   "metadata": {},
   "outputs": [],
   "source": [
    "# Open an Image\n",
    "def open_image(path):\n",
    "  newImage = Image.open(path)\n",
    "  return newImage\n",
    "\n",
    "# Save Image\n",
    "def save_image(image, path):\n",
    "  image.save(path, 'png')\n",
    "\n",
    "    "
   ]
  },
  {
   "cell_type": "code",
   "execution_count": 7,
   "metadata": {},
   "outputs": [],
   "source": [
    "# Create a green filter image\n",
    "def green_filter(image):\n",
    "  # Get size\n",
    "  width, height = image.size\n",
    "  # Create new Image and a Pixel Map\n",
    "  pixels = image.load()\n",
    "  for i in range(width):\n",
    "    for j in range(height):\n",
    "      pixels[i, j] = (int(pixels[i,j][0]*0.11), pixels[i,j][1] , int(pixels[i,j][2]*0.5))\n",
    "        \n",
    "  return image"
   ]
  },
  {
   "cell_type": "code",
   "execution_count": 10,
   "metadata": {},
   "outputs": [],
   "source": [
    "first = open_image(r\"C:\\Users\\akanksha\\Desktop\\C++\\first.jpg\")\n",
    "image = green_filter(first)\n"
   ]
  },
  {
   "cell_type": "code",
   "execution_count": 11,
   "metadata": {},
   "outputs": [],
   "source": [
    "save_image(first, r\"C:\\Users\\akanksha\\Desktop\\C++\\first1.jpg\")"
   ]
  },
  {
   "cell_type": "code",
   "execution_count": 13,
   "metadata": {},
   "outputs": [],
   "source": [
    "first.show()"
   ]
  },
  {
   "cell_type": "code",
   "execution_count": 163,
   "metadata": {},
   "outputs": [],
   "source": []
  }
 ],
 "metadata": {
  "kernelspec": {
   "display_name": "Python 3",
   "language": "python",
   "name": "python3"
  },
  "language_info": {
   "codemirror_mode": {
    "name": "ipython",
    "version": 3
   },
   "file_extension": ".py",
   "mimetype": "text/x-python",
   "name": "python",
   "nbconvert_exporter": "python",
   "pygments_lexer": "ipython3",
   "version": "3.7.2"
  }
 },
 "nbformat": 4,
 "nbformat_minor": 4
}
